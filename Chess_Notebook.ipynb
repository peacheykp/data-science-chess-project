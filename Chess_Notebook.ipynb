{
 "cells": [
  {
   "cell_type": "markdown",
   "metadata": {},
   "source": [
    "# ALL ABOUT CHESS"
   ]
  },
  {
   "cell_type": "markdown",
   "metadata": {},
   "source": [
    "### Francisco Morales, Kevin Peachey"
   ]
  },
  {
   "cell_type": "markdown",
   "metadata": {},
   "source": [
    "Imports:"
   ]
  },
  {
   "cell_type": "code",
   "execution_count": 2,
   "metadata": {},
   "outputs": [],
   "source": [
    "import pandas as pd"
   ]
  },
  {
   "cell_type": "markdown",
   "metadata": {},
   "source": [
    "#### EDA"
   ]
  },
  {
   "cell_type": "code",
   "execution_count": 3,
   "metadata": {},
   "outputs": [
    {
     "name": "stdout",
     "output_type": "stream",
     "text": [
      "<class 'pandas.core.frame.DataFrame'>\n",
      "RangeIndex: 20058 entries, 0 to 20057\n",
      "Data columns (total 16 columns):\n",
      " #   Column          Non-Null Count  Dtype  \n",
      "---  ------          --------------  -----  \n",
      " 0   id              20058 non-null  object \n",
      " 1   rated           20058 non-null  bool   \n",
      " 2   created_at      20058 non-null  float64\n",
      " 3   last_move_at    20058 non-null  float64\n",
      " 4   turns           20058 non-null  int64  \n",
      " 5   victory_status  20058 non-null  object \n",
      " 6   winner          20058 non-null  object \n",
      " 7   increment_code  20058 non-null  object \n",
      " 8   white_id        20058 non-null  object \n",
      " 9   white_rating    20058 non-null  int64  \n",
      " 10  black_id        20058 non-null  object \n",
      " 11  black_rating    20058 non-null  int64  \n",
      " 12  moves           20058 non-null  object \n",
      " 13  opening_eco     20058 non-null  object \n",
      " 14  opening_name    20058 non-null  object \n",
      " 15  opening_ply     20058 non-null  int64  \n",
      "dtypes: bool(1), float64(2), int64(4), object(9)\n",
      "memory usage: 2.3+ MB\n"
     ]
    }
   ],
   "source": [
    "df = pd.read_csv(\"games.csv\")\n",
    "df.info()"
   ]
  },
  {
   "cell_type": "code",
   "execution_count": 4,
   "metadata": {},
   "outputs": [
    {
     "data": {
      "text/plain": [
       "'d4 Nc6 e4 e5 f4 f6 dxe5 fxe5 fxe5 Nxe5 Qd4 Nc6 Qe5+ Nxe5 c4 Bb4+'"
      ]
     },
     "execution_count": 4,
     "metadata": {},
     "output_type": "execute_result"
    }
   ],
   "source": [
    "df[['winner', 'turns', 'moves']].iloc[1][2]\n"
   ]
  },
  {
   "cell_type": "code",
   "execution_count": 5,
   "metadata": {},
   "outputs": [],
   "source": [
    "def num_materials(moves):\n",
    "    # white and black\n",
    "    takes = [0, 0]\n",
    "    for (i, move) in enumerate(moves.split(\" \")):\n",
    "        # 0 = white, 1 = black\n",
    "        color = i % 2\n",
    "        \n",
    "        # determine if this was a take\n",
    "        take = 'x' in move\n",
    "        \n",
    "        # add take to tuple\n",
    "        takes[color] += 1 if take else 0\n",
    "    \n",
    "    return (16 - takes[1], 16 - takes[0])"
   ]
  },
  {
   "cell_type": "code",
   "execution_count": 6,
   "metadata": {},
   "outputs": [
    {
     "data": {
      "text/plain": [
       "(13, 14)"
      ]
     },
     "execution_count": 6,
     "metadata": {},
     "output_type": "execute_result"
    }
   ],
   "source": [
    "materials_left = num_materials(df[['winner', 'turns', 'moves']].iloc[1][2])\n",
    "materials_left"
   ]
  },
  {
   "cell_type": "code",
   "execution_count": 7,
   "metadata": {},
   "outputs": [],
   "source": [
    "wins_for_materials = {}\n",
    "\n"
   ]
  },
  {
   "cell_type": "markdown",
   "metadata": {},
   "source": [
    "## Introduction"
   ]
  },
  {
   "cell_type": "markdown",
   "metadata": {},
   "source": [
    "## Data Cleaning"
   ]
  },
  {
   "cell_type": "markdown",
   "metadata": {},
   "source": [
    "### Missing values"
   ]
  },
  {
   "cell_type": "code",
   "execution_count": 8,
   "metadata": {},
   "outputs": [
    {
     "data": {
      "text/plain": [
       "False"
      ]
     },
     "execution_count": 8,
     "metadata": {},
     "output_type": "execute_result"
    }
   ],
   "source": [
    "df.isna().any().any()"
   ]
  },
  {
   "cell_type": "markdown",
   "metadata": {},
   "source": [
    "### Outlier games"
   ]
  },
  {
   "cell_type": "markdown",
   "metadata": {},
   "source": [
    "Since this dataset is a collection of games that were played online, there may be games that ended for reasons outside of the game itself. For instance, a player may resign if they have an obligation in the real world to attend to, irrespective of the current board position. Games may also end if a player loses connection during the match. These games introduce noise into our analysis, since their outcomes may have nothing to do with the moves played.\n",
    "\n",
    "While there is no way to detect all of these games, we can use domain knowledge to elimate some of them. For instace, sometimes a player will leave an online match before they play any moves because they started a new game accidentally. Since it is very rare for a chess game to end after few moves, games that have only a few moves are most likely outliers in which a player had to leave early."
   ]
  },
  {
   "cell_type": "code",
   "execution_count": 45,
   "metadata": {},
   "outputs": [
    {
     "data": {
      "text/plain": [
       "<matplotlib.axes._subplots.AxesSubplot at 0x7fa231d73790>"
      ]
     },
     "execution_count": 45,
     "metadata": {},
     "output_type": "execute_result"
    },
    {
     "data": {
      "image/png": "[encoded data removed]",
      "text/plain": [
       "<Figure size 1080x576 with 1 Axes>"
      ]
     },
     "metadata": {
      "needs_background": "light"
     },
     "output_type": "display_data"
    }
   ],
   "source": [
    "df['turns'].plot.hist(title='Number of Moves', bins=117, figsize=(15,8), xticks=range(0,351,10))"
   ]
  },
  {
   "cell_type": "markdown",
   "metadata": {},
   "source": [
    "As shown by the histogram, there are around 350 games that have 0-3 moves, which represents a local maximum. This spike suggests that it is relatively common to start a new game accidentally, since there are far more games with 0-3 moves than in any of the bins from 3-12 moves. We will remove these 350 games from the dataset since it is almost certain that they ended due to external reasons."
   ]
  },
  {
   "cell_type": "code",
   "execution_count": 48,
   "metadata": {},
   "outputs": [
    {
     "name": "stdout",
     "output_type": "stream",
     "text": [
      "<class 'pandas.core.frame.DataFrame'>\n",
      "Int64Index: 19768 entries, 0 to 20057\n",
      "Data columns (total 16 columns):\n",
      " #   Column          Non-Null Count  Dtype  \n",
      "---  ------          --------------  -----  \n",
      " 0   id              19768 non-null  object \n",
      " 1   rated           19768 non-null  bool   \n",
      " 2   created_at      19768 non-null  float64\n",
      " 3   last_move_at    19768 non-null  float64\n",
      " 4   turns           19768 non-null  int64  \n",
      " 5   victory_status  19768 non-null  object \n",
      " 6   winner          19768 non-null  object \n",
      " 7   increment_code  19768 non-null  object \n",
      " 8   white_id        19768 non-null  object \n",
      " 9   white_rating    19768 non-null  int64  \n",
      " 10  black_id        19768 non-null  object \n",
      " 11  black_rating    19768 non-null  int64  \n",
      " 12  moves           19768 non-null  object \n",
      " 13  opening_eco     19768 non-null  object \n",
      " 14  opening_name    19768 non-null  object \n",
      " 15  opening_ply     19768 non-null  int64  \n",
      "dtypes: bool(1), float64(2), int64(4), object(9)\n",
      "memory usage: 3.1+ MB\n"
     ]
    }
   ],
   "source": [
    "df.drop(df[df['turns'] <= 3].index, inplace=True)\n",
    "df.info()"
   ]
  },
  {
   "cell_type": "markdown",
   "metadata": {},
   "source": [
    "### Reformat columns"
   ]
  },
  {
   "cell_type": "markdown",
   "metadata": {},
   "source": [
    "## Exploratory Data Analysis"
   ]
  },
  {
   "cell_type": "markdown",
   "metadata": {},
   "source": [
    "We are going to explore some interesting correlations between opening moves and winning rate. Here, we are seeing if the material left in the first 10 moves can be a good predictor for winning."
   ]
  },
  {
   "cell_type": "code",
   "execution_count": null,
   "metadata": {},
   "outputs": [],
   "source": []
  }
 ],
 "metadata": {
  "kernelspec": {
   "display_name": "Python 3",
   "language": "python",
   "name": "python3"
  },
  "language_info": {
   "codemirror_mode": {
    "name": "ipython",
    "version": 3
   },
   "file_extension": ".py",
   "mimetype": "text/x-python",
   "name": "python",
   "nbconvert_exporter": "python",
   "pygments_lexer": "ipython3",
   "version": "3.8.5"
  }
 },
 "nbformat": 4,
 "nbformat_minor": 4
}
