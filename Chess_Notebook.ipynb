{
 "cells": [
  {
   "cell_type": "markdown",
   "metadata": {},
   "source": [
    "# ALL ABOUT CHESS"
   ]
  },
  {
   "cell_type": "markdown",
   "metadata": {},
   "source": [
    "### Francisco Morales, Kevin Peachey"
   ]
  },
  {
   "cell_type": "markdown",
   "metadata": {},
   "source": [
    "Imports:"
   ]
  },
  {
   "cell_type": "code",
   "execution_count": 1,
   "metadata": {},
   "outputs": [
    {
     "name": "stdout",
     "output_type": "stream",
     "text": [
      "Requirement already satisfied: chess in /opt/conda/lib/python3.8/site-packages (1.3.2)\r\n"
     ]
    }
   ],
   "source": [
    "!pip install chess"
   ]
  },
  {
   "cell_type": "code",
   "execution_count": 2,
   "metadata": {},
   "outputs": [],
   "source": [
    "import pandas as pd\n",
    "import chess\n",
    "import statsmodels.formula.api as smf"
   ]
  },
  {
   "cell_type": "code",
   "execution_count": 3,
   "metadata": {},
   "outputs": [
    {
     "name": "stdout",
     "output_type": "stream",
     "text": [
      "<class 'pandas.core.frame.DataFrame'>\n",
      "RangeIndex: 20058 entries, 0 to 20057\n",
      "Data columns (total 16 columns):\n",
      " #   Column          Non-Null Count  Dtype  \n",
      "---  ------          --------------  -----  \n",
      " 0   id              20058 non-null  object \n",
      " 1   rated           20058 non-null  bool   \n",
      " 2   created_at      20058 non-null  float64\n",
      " 3   last_move_at    20058 non-null  float64\n",
      " 4   turns           20058 non-null  int64  \n",
      " 5   victory_status  20058 non-null  object \n",
      " 6   winner          20058 non-null  object \n",
      " 7   increment_code  20058 non-null  object \n",
      " 8   white_id        20058 non-null  object \n",
      " 9   white_rating    20058 non-null  int64  \n",
      " 10  black_id        20058 non-null  object \n",
      " 11  black_rating    20058 non-null  int64  \n",
      " 12  moves           20058 non-null  object \n",
      " 13  opening_eco     20058 non-null  object \n",
      " 14  opening_name    20058 non-null  object \n",
      " 15  opening_ply     20058 non-null  int64  \n",
      "dtypes: bool(1), float64(2), int64(4), object(9)\n",
      "memory usage: 2.3+ MB\n"
     ]
    }
   ],
   "source": [
    "df = pd.read_csv(\"games.csv\")\n",
    "df.info()"
   ]
  },
  {
   "cell_type": "markdown",
   "metadata": {},
   "source": [
    "## Introduction"
   ]
  },
  {
   "cell_type": "markdown",
   "metadata": {},
   "source": [
    "## Data Cleaning"
   ]
  },
  {
   "cell_type": "markdown",
   "metadata": {},
   "source": [
    "### Missing values"
   ]
  },
  {
   "cell_type": "markdown",
   "metadata": {},
   "source": [
    "### Outlier games"
   ]
  },
  {
   "cell_type": "markdown",
   "metadata": {},
   "source": [
    "Since this dataset is a collection of games that were played online, there may be games that ended for reasons outside of the game itself. For instance, a player may resign if they have an obligation in the real world to attend to, irrespective of the current board position. Games may also end if a player loses connection during the match. These games introduce noise into our analysis, since their outcomes may have nothing to do with the moves played.\n",
    "\n",
    "While there is no way to detect all of these games, we can use domain knowledge to elimate some of them. For instace, sometimes a player will leave an online match before they play any moves because they started a new game accidentally. Since it is very rare for a chess game to end after few moves, games that have only a few moves are most likely outliers in which a player had to leave early."
   ]
  },
  {
   "cell_type": "code",
   "execution_count": 4,
   "metadata": {},
   "outputs": [
    {
     "data": {
      "text/plain": [
       "<matplotlib.axes._subplots.AxesSubplot at 0x7f0ac2480610>"
      ]
     },
     "execution_count": 4,
     "metadata": {},
     "output_type": "execute_result"
    },
    {
     "data": {
      "image/png": "[encoded data removed]",
      "text/plain": [
       "<Figure size 1080x432 with 1 Axes>"
      ]
     },
     "metadata": {
      "needs_background": "light"
     },
     "output_type": "display_data"
    }
   ],
   "source": [
    "df['turns'].plot.hist(title='Number of Moves', bins=117, figsize=(15,6), xticks=range(0,351,10))"
   ]
  },
  {
   "cell_type": "markdown",
   "metadata": {},
   "source": [
    "As shown by the histogram, there are around 300 games that have 0-3 moves, which represents a local maximum. This spike around 0 suggests that it is relatively common to start a new game accidentally, since there are many more games with 0-3 moves than in any of the bins from 3-12 moves. We will remove these 300 games from the dataset since it is almost certain that they ended due to external reasons."
   ]
  },
  {
   "cell_type": "code",
   "execution_count": 5,
   "metadata": {},
   "outputs": [],
   "source": [
    "df.drop(df[df['turns'] <= 3].index, inplace=True)"
   ]
  },
  {
   "cell_type": "markdown",
   "metadata": {},
   "source": [
    "Here's what the turn data looks like after the omission."
   ]
  },
  {
   "cell_type": "code",
   "execution_count": 6,
   "metadata": {},
   "outputs": [
    {
     "data": {
      "text/plain": [
       "<matplotlib.axes._subplots.AxesSubplot at 0x7f0ac2082d60>"
      ]
     },
     "execution_count": 6,
     "metadata": {},
     "output_type": "execute_result"
    },
    {
     "data": {
      "image/png": "[encoded data removed]",
      "text/plain": [
       "<Figure size 1080x432 with 1 Axes>"
      ]
     },
     "metadata": {
      "needs_background": "light"
     },
     "output_type": "display_data"
    }
   ],
   "source": [
    "df['turns'].plot.hist(title='Number of Moves', bins=116, figsize=(15,6), xticks=range(0,351,10))"
   ]
  },
  {
   "cell_type": "markdown",
   "metadata": {},
   "source": [
    "### Reformat columns"
   ]
  },
  {
   "cell_type": "markdown",
   "metadata": {},
   "source": [
    "## Exploratory Data Analysis"
   ]
  },
  {
   "cell_type": "markdown",
   "metadata": {},
   "source": [
    "We are going to explore some interesting correlations between opening moves and winning rate. Here, we are seeing if the material left in the first 10 moves can be a good predictor for winning."
   ]
  },
  {
   "cell_type": "code",
   "execution_count": 7,
   "metadata": {},
   "outputs": [
    {
     "data": {
      "text/plain": [
       "'d4 Nc6 e4 e5 f4 f6 dxe5 fxe5 fxe5 Nxe5 Qd4 Nc6 Qe5+ Nxe5 c4 Bb4+'"
      ]
     },
     "execution_count": 7,
     "metadata": {},
     "output_type": "execute_result"
    }
   ],
   "source": [
    "df[['winner', 'turns', 'moves']].iloc[1][2]\n"
   ]
  },
  {
   "cell_type": "code",
   "execution_count": 8,
   "metadata": {},
   "outputs": [],
   "source": [
    "def num_materials(moves):\n",
    "    # white and black\n",
    "    takes = [0, 0]\n",
    "    for (i, move) in enumerate(moves.split(\" \")):\n",
    "        # 0 = white, 1 = black\n",
    "        color = i % 2\n",
    "        \n",
    "        # determine if this was a take\n",
    "        take = 'x' in move\n",
    "        \n",
    "        # add take to tuple\n",
    "        takes[color] += 1 if take else 0\n",
    "    \n",
    "    return (16 - takes[1], 16 - takes[0])"
   ]
  },
  {
   "cell_type": "code",
   "execution_count": 9,
   "metadata": {},
   "outputs": [
    {
     "data": {
      "text/plain": [
       "(13, 14)"
      ]
     },
     "execution_count": 9,
     "metadata": {},
     "output_type": "execute_result"
    }
   ],
   "source": [
    "materials_left = num_materials(df[['winner', 'turns', 'moves']].iloc[1][2])\n",
    "materials_left"
   ]
  },
  {
   "cell_type": "code",
   "execution_count": 10,
   "metadata": {},
   "outputs": [
    {
     "name": "stdout",
     "output_type": "stream",
     "text": [
      "(0, 7)\n"
     ]
    }
   ],
   "source": [
    "board = [[0 for i in range(1, 9)] for j in range(1,9)]\n",
    "board\n",
    "'''\n",
    ".\n",
    "3\n",
    "2\n",
    "1\n",
    "  a  b  c  d...\n",
    "  \n",
    "a1 = board[7][0]\n",
    "h8 = board[0][7]\n",
    "'''\n",
    "\n",
    "# Function to map position on board to index of 2D array\n",
    "def pos_to_ind(pos):\n",
    "    x = pos[0]\n",
    "    y = pos[1]\n",
    "    \n",
    "    if x == 'a':\n",
    "        x_ind = 7\n",
    "    elif x == 'b':\n",
    "        x_ind = 6\n",
    "    elif x == 'c':\n",
    "        x_ind = 5\n",
    "    elif x == 'd':\n",
    "        x_ind = 4\n",
    "    elif x == 'e':\n",
    "        x_ind = 3\n",
    "    elif x == 'f':\n",
    "        x_ind = 2\n",
    "    elif x == 'g':\n",
    "        x_ind = 1\n",
    "    elif x == 'h':\n",
    "        x_ind = 0\n",
    "    \n",
    "    return (x_ind, int(y) - 1)\n",
    "\n",
    "print(pos_to_ind('h8'))"
   ]
  },
  {
   "cell_type": "markdown",
   "metadata": {},
   "source": [
    "### Material advantage\n",
    "\n",
    "Material advantage is an intuitive measure of success in a chess match. Of course, material advantage isn't everything but it would be significant to compare the average material advantage (white vs black) with winning percentage. This will show us if having a higher material advantage over the course of the match is a good indicator of winning the match."
   ]
  },
  {
   "cell_type": "code",
   "execution_count": 11,
   "metadata": {},
   "outputs": [],
   "source": [
    "adv_df = df.copy()[['turns', 'winner', 'moves']]"
   ]
  },
  {
   "cell_type": "code",
   "execution_count": 12,
   "metadata": {},
   "outputs": [],
   "source": [
    "# This function will calculate the avarage material advantage throughout the entire match \n",
    "def calc_adv(moves):\n",
    "    # white and black\n",
    "    takes = [16, 16]\n",
    "    \n",
    "    total_diff = 0 \n",
    "    \n",
    "    # Iterate through each turn\n",
    "    for (i, move) in enumerate(moves.split(\" \")):\n",
    "        # 0 = white, 1 = black\n",
    "        color = i % 2\n",
    "        \n",
    "        # Find if someone took in this turn\n",
    "        did_take = 'x' in move\n",
    "        if did_take:\n",
    "            takes[(color + 1) % 2] -= 1\n",
    "        \n",
    "        # Add up differences\n",
    "        total_diff += takes[0] - takes[1]\n",
    "    \n",
    "    # Average \n",
    "    return total_diff / len(moves)"
   ]
  },
  {
   "cell_type": "markdown",
   "metadata": {},
   "source": [
    "Here, we calculate the average material advantage for each game. A negative value is an overall material advantage for black."
   ]
  },
  {
   "cell_type": "code",
   "execution_count": 13,
   "metadata": {},
   "outputs": [
    {
     "data": {
      "text/html": [
       "<div>\n",
       "<style scoped>\n",
       "    .dataframe tbody tr th:only-of-type {\n",
       "        vertical-align: middle;\n",
       "    }\n",
       "\n",
       "    .dataframe tbody tr th {\n",
       "        vertical-align: top;\n",
       "    }\n",
       "\n",
       "    .dataframe thead th {\n",
       "        text-align: right;\n",
       "    }\n",
       "</style>\n",
       "<table border=\"1\" class=\"dataframe\">\n",
       "  <thead>\n",
       "    <tr style=\"text-align: right;\">\n",
       "      <th></th>\n",
       "      <th>turns</th>\n",
       "      <th>winner</th>\n",
       "      <th>moves</th>\n",
       "      <th>avg_adv</th>\n",
       "    </tr>\n",
       "  </thead>\n",
       "  <tbody>\n",
       "    <tr>\n",
       "      <th>0</th>\n",
       "      <td>13</td>\n",
       "      <td>white</td>\n",
       "      <td>d4 d5 c4 c6 cxd5 e6 dxe6 fxe6 Nf3 Bb4+ Nc3 Ba5...</td>\n",
       "      <td>0.200000</td>\n",
       "    </tr>\n",
       "    <tr>\n",
       "      <th>1</th>\n",
       "      <td>16</td>\n",
       "      <td>black</td>\n",
       "      <td>d4 Nc6 e4 e5 f4 f6 dxe5 fxe5 fxe5 Nxe5 Qd4 Nc6...</td>\n",
       "      <td>-0.015625</td>\n",
       "    </tr>\n",
       "    <tr>\n",
       "      <th>2</th>\n",
       "      <td>61</td>\n",
       "      <td>white</td>\n",
       "      <td>e4 e5 d3 d6 Be3 c6 Be2 b5 Nd2 a5 a4 c5 axb5 Nc...</td>\n",
       "      <td>1.299213</td>\n",
       "    </tr>\n",
       "    <tr>\n",
       "      <th>3</th>\n",
       "      <td>61</td>\n",
       "      <td>white</td>\n",
       "      <td>d4 d5 Nf3 Bf5 Nc3 Nf6 Bf4 Ng4 e3 Nc6 Be2 Qd7 O...</td>\n",
       "      <td>0.293233</td>\n",
       "    </tr>\n",
       "    <tr>\n",
       "      <th>4</th>\n",
       "      <td>95</td>\n",
       "      <td>white</td>\n",
       "      <td>e4 e5 Nf3 d6 d4 Nc6 d5 Nb4 a3 Na6 Nc3 Be7 b4 N...</td>\n",
       "      <td>0.445570</td>\n",
       "    </tr>\n",
       "    <tr>\n",
       "      <th>5</th>\n",
       "      <td>5</td>\n",
       "      <td>draw</td>\n",
       "      <td>e4 c5 Nf3 Qa5 a3</td>\n",
       "      <td>0.000000</td>\n",
       "    </tr>\n",
       "    <tr>\n",
       "      <th>6</th>\n",
       "      <td>33</td>\n",
       "      <td>white</td>\n",
       "      <td>d4 d5 e4 dxe4 Nc3 Nf6 f3 exf3 Nxf3 Nc6 Bb5 a6 ...</td>\n",
       "      <td>-0.280576</td>\n",
       "    </tr>\n",
       "    <tr>\n",
       "      <th>7</th>\n",
       "      <td>9</td>\n",
       "      <td>black</td>\n",
       "      <td>e4 Nc6 d4 e5 d5 Nce7 c3 Ng6 b4</td>\n",
       "      <td>0.000000</td>\n",
       "    </tr>\n",
       "    <tr>\n",
       "      <th>8</th>\n",
       "      <td>66</td>\n",
       "      <td>black</td>\n",
       "      <td>e4 e5 Bc4 Nc6 Nf3 Nd4 d3 Nxf3+ Qxf3 Nf6 h3 Bc5...</td>\n",
       "      <td>-0.043636</td>\n",
       "    </tr>\n",
       "    <tr>\n",
       "      <th>9</th>\n",
       "      <td>119</td>\n",
       "      <td>white</td>\n",
       "      <td>e4 d5 exd5 Qxd5 Nc3 Qe5+ Be2 Na6 d4 Qf5 Bxa6 b...</td>\n",
       "      <td>-0.016064</td>\n",
       "    </tr>\n",
       "  </tbody>\n",
       "</table>\n",
       "</div>"
      ],
      "text/plain": [
       "   turns winner                                              moves   avg_adv\n",
       "0     13  white  d4 d5 c4 c6 cxd5 e6 dxe6 fxe6 Nf3 Bb4+ Nc3 Ba5...  0.200000\n",
       "1     16  black  d4 Nc6 e4 e5 f4 f6 dxe5 fxe5 fxe5 Nxe5 Qd4 Nc6... -0.015625\n",
       "2     61  white  e4 e5 d3 d6 Be3 c6 Be2 b5 Nd2 a5 a4 c5 axb5 Nc...  1.299213\n",
       "3     61  white  d4 d5 Nf3 Bf5 Nc3 Nf6 Bf4 Ng4 e3 Nc6 Be2 Qd7 O...  0.293233\n",
       "4     95  white  e4 e5 Nf3 d6 d4 Nc6 d5 Nb4 a3 Na6 Nc3 Be7 b4 N...  0.445570\n",
       "5      5   draw                                   e4 c5 Nf3 Qa5 a3  0.000000\n",
       "6     33  white  d4 d5 e4 dxe4 Nc3 Nf6 f3 exf3 Nxf3 Nc6 Bb5 a6 ... -0.280576\n",
       "7      9  black                     e4 Nc6 d4 e5 d5 Nce7 c3 Ng6 b4  0.000000\n",
       "8     66  black  e4 e5 Bc4 Nc6 Nf3 Nd4 d3 Nxf3+ Qxf3 Nf6 h3 Bc5... -0.043636\n",
       "9    119  white  e4 d5 exd5 Qxd5 Nc3 Qe5+ Be2 Na6 d4 Qf5 Bxa6 b... -0.016064"
      ]
     },
     "execution_count": 13,
     "metadata": {},
     "output_type": "execute_result"
    }
   ],
   "source": [
    "adv_df['avg_adv'] = [calc_adv(moves) for moves in adv_df['moves']]\n",
    "adv_df.head(10)"
   ]
  },
  {
   "cell_type": "markdown",
   "metadata": {},
   "source": [
    "This is the distribution of average material advantage in the dataset. As we can see, it seems to be symmetrically distributed around 0."
   ]
  },
  {
   "cell_type": "code",
   "execution_count": 14,
   "metadata": {},
   "outputs": [
    {
     "data": {
      "text/plain": [
       "<matplotlib.axes._subplots.AxesSubplot at 0x7f0af482e430>"
      ]
     },
     "execution_count": 14,
     "metadata": {},
     "output_type": "execute_result"
    },
    {
     "data": {
      "image/png": "[encoded data removed]",
      "text/plain": [
       "<Figure size 432x288 with 1 Axes>"
      ]
     },
     "metadata": {
      "needs_background": "light"
     },
     "output_type": "display_data"
    }
   ],
   "source": [
    "adv_df['avg_adv'].plot.hist(title='Material Advantage', bins=50)"
   ]
  },
  {
   "cell_type": "code",
   "execution_count": 15,
   "metadata": {},
   "outputs": [],
   "source": [
    "adv_df['adv_bin'] = pd.qcut(adv_df['avg_adv'], 20, precision=2)\n",
    "adv_df['win_ratio'] = adv_df['winner'].replace({'black':-1, 'draw':0, 'white':1})\n",
    "adv_bin_win = adv_df[['adv_bin', 'win_ratio']].groupby('adv_bin', as_index=False).mean()"
   ]
  },
  {
   "cell_type": "markdown",
   "metadata": {},
   "source": [
    "Finally, we plot 20 evenly spaced bins of the average advantage. We see a reassuring positive trend."
   ]
  },
  {
   "cell_type": "code",
   "execution_count": 16,
   "metadata": {},
   "outputs": [
    {
     "data": {
      "text/plain": [
       "<matplotlib.axes._subplots.AxesSubplot at 0x7f0ac1be7fa0>"
      ]
     },
     "execution_count": 16,
     "metadata": {},
     "output_type": "execute_result"
    },
    {
     "data": {
      "image/png": "[encoded data removed]",
      "text/plain": [
       "<Figure size 432x288 with 1 Axes>"
      ]
     },
     "metadata": {
      "needs_background": "light"
     },
     "output_type": "display_data"
    }
   ],
   "source": [
    "adv_bin_win.plot(x='adv_bin')"
   ]
  },
  {
   "cell_type": "markdown",
   "metadata": {},
   "source": [
    "#### Rating Differential"
   ]
  },
  {
   "cell_type": "markdown",
   "metadata": {},
   "source": [
    "Another variable that we'll explore is the difference in rating between the two players. lichess.org uses the Glicko-2 rating system, which starts each player with a rating of 1500 and awards/removes points based on the outcomes of their matches. These rankings generally give a good indication of the skill of a player, so we'd expect that a player who has a higher ranking than their opponent is more likely to win by a margin roughly proportional to the difference in rank.\n",
    "\n",
    "Here, we'll calculate the rating differential and get a sense of the distribution."
   ]
  },
  {
   "cell_type": "code",
   "execution_count": 17,
   "metadata": {},
   "outputs": [
    {
     "data": {
      "text/plain": [
       "<matplotlib.axes._subplots.AxesSubplot at 0x7f0abb94a340>"
      ]
     },
     "execution_count": 17,
     "metadata": {},
     "output_type": "execute_result"
    },
    {
     "data": {
      "image/png": "[encoded data removed]",
      "text/plain": [
       "<Figure size 432x288 with 1 Axes>"
      ]
     },
     "metadata": {
      "needs_background": "light"
     },
     "output_type": "display_data"
    }
   ],
   "source": [
    "df['rating_diff'] = (df['white_rating']-df['black_rating'])\n",
    "df['rating_diff'].plot.hist(title='Differential in Rating', bins=50)"
   ]
  },
  {
   "cell_type": "markdown",
   "metadata": {},
   "source": [
    "It appears that differential in rating is symmetrically distributed and centered around zero, meaning that, on average, players should be evenly matched. To examine the effect of this differential on the outcome of the games, we will use qcut to split this Series into equally sized bins based on value, then plot the win rates of the bins against each other."
   ]
  },
  {
   "cell_type": "code",
   "execution_count": 18,
   "metadata": {},
   "outputs": [],
   "source": [
    "df['rating_bin'] = pd.qcut(df['rating_diff'], 5)"
   ]
  },
  {
   "cell_type": "markdown",
   "metadata": {},
   "source": [
    "To compute average win rate, we'll need to convert the 'winner' column from a categorical variable into a number that can be averaged. We'll encode a victory for white as +1, victory for black as -1, and a draw as 0. With this encoding, a negative average would indicate that black has a higher winning rate for that bin, and vice versa for white."
   ]
  },
  {
   "cell_type": "code",
   "execution_count": 19,
   "metadata": {},
   "outputs": [],
   "source": [
    "df['win_ratio'] = df['winner'].replace({'black':-1, 'draw':0, 'white':1})"
   ]
  },
  {
   "cell_type": "markdown",
   "metadata": {},
   "source": [
    "Finally, we'll group by the rating bin and compute the average win rate."
   ]
  },
  {
   "cell_type": "code",
   "execution_count": 20,
   "metadata": {},
   "outputs": [
    {
     "data": {
      "text/html": [
       "<div>\n",
       "<style scoped>\n",
       "    .dataframe tbody tr th:only-of-type {\n",
       "        vertical-align: middle;\n",
       "    }\n",
       "\n",
       "    .dataframe tbody tr th {\n",
       "        vertical-align: top;\n",
       "    }\n",
       "\n",
       "    .dataframe thead th {\n",
       "        text-align: right;\n",
       "    }\n",
       "</style>\n",
       "<table border=\"1\" class=\"dataframe\">\n",
       "  <thead>\n",
       "    <tr style=\"text-align: right;\">\n",
       "      <th></th>\n",
       "      <th>rated</th>\n",
       "      <th>created_at</th>\n",
       "      <th>last_move_at</th>\n",
       "      <th>turns</th>\n",
       "      <th>white_rating</th>\n",
       "      <th>black_rating</th>\n",
       "      <th>opening_ply</th>\n",
       "      <th>rating_diff</th>\n",
       "      <th>win_ratio</th>\n",
       "    </tr>\n",
       "    <tr>\n",
       "      <th>rating_bin</th>\n",
       "      <th></th>\n",
       "      <th></th>\n",
       "      <th></th>\n",
       "      <th></th>\n",
       "      <th></th>\n",
       "      <th></th>\n",
       "      <th></th>\n",
       "      <th></th>\n",
       "      <th></th>\n",
       "    </tr>\n",
       "  </thead>\n",
       "  <tbody>\n",
       "    <tr>\n",
       "      <th>(-1605.001, -146.0]</th>\n",
       "      <td>0.736922</td>\n",
       "      <td>1.481953e+12</td>\n",
       "      <td>1.481954e+12</td>\n",
       "      <td>59.142785</td>\n",
       "      <td>1442.118524</td>\n",
       "      <td>1765.393985</td>\n",
       "      <td>4.737427</td>\n",
       "      <td>-323.275461</td>\n",
       "      <td>-0.481173</td>\n",
       "    </tr>\n",
       "    <tr>\n",
       "      <th>(-146.0, -29.0]</th>\n",
       "      <td>0.862601</td>\n",
       "      <td>1.485796e+12</td>\n",
       "      <td>1.485797e+12</td>\n",
       "      <td>64.087551</td>\n",
       "      <td>1548.759362</td>\n",
       "      <td>1627.842611</td>\n",
       "      <td>4.867915</td>\n",
       "      <td>-79.083249</td>\n",
       "      <td>-0.126265</td>\n",
       "    </tr>\n",
       "    <tr>\n",
       "      <th>(-29.0, 39.0]</th>\n",
       "      <td>0.867503</td>\n",
       "      <td>1.487997e+12</td>\n",
       "      <td>1.487998e+12</td>\n",
       "      <td>64.025094</td>\n",
       "      <td>1589.107654</td>\n",
       "      <td>1584.605521</td>\n",
       "      <td>4.903388</td>\n",
       "      <td>4.502133</td>\n",
       "      <td>0.040151</td>\n",
       "    </tr>\n",
       "    <tr>\n",
       "      <th>(39.0, 162.0]</th>\n",
       "      <td>0.845003</td>\n",
       "      <td>1.483758e+12</td>\n",
       "      <td>1.483759e+12</td>\n",
       "      <td>63.092846</td>\n",
       "      <td>1645.333841</td>\n",
       "      <td>1552.122527</td>\n",
       "      <td>4.877727</td>\n",
       "      <td>93.211314</td>\n",
       "      <td>0.226535</td>\n",
       "    </tr>\n",
       "    <tr>\n",
       "      <th>(162.0, 1499.0]</th>\n",
       "      <td>0.719736</td>\n",
       "      <td>1.479823e+12</td>\n",
       "      <td>1.479824e+12</td>\n",
       "      <td>56.211597</td>\n",
       "      <td>1769.795015</td>\n",
       "      <td>1425.196846</td>\n",
       "      <td>4.916328</td>\n",
       "      <td>344.598169</td>\n",
       "      <td>0.562818</td>\n",
       "    </tr>\n",
       "  </tbody>\n",
       "</table>\n",
       "</div>"
      ],
      "text/plain": [
       "                        rated    created_at  last_move_at      turns  \\\n",
       "rating_bin                                                             \n",
       "(-1605.001, -146.0]  0.736922  1.481953e+12  1.481954e+12  59.142785   \n",
       "(-146.0, -29.0]      0.862601  1.485796e+12  1.485797e+12  64.087551   \n",
       "(-29.0, 39.0]        0.867503  1.487997e+12  1.487998e+12  64.025094   \n",
       "(39.0, 162.0]        0.845003  1.483758e+12  1.483759e+12  63.092846   \n",
       "(162.0, 1499.0]      0.719736  1.479823e+12  1.479824e+12  56.211597   \n",
       "\n",
       "                     white_rating  black_rating  opening_ply  rating_diff  \\\n",
       "rating_bin                                                                  \n",
       "(-1605.001, -146.0]   1442.118524   1765.393985     4.737427  -323.275461   \n",
       "(-146.0, -29.0]       1548.759362   1627.842611     4.867915   -79.083249   \n",
       "(-29.0, 39.0]         1589.107654   1584.605521     4.903388     4.502133   \n",
       "(39.0, 162.0]         1645.333841   1552.122527     4.877727    93.211314   \n",
       "(162.0, 1499.0]       1769.795015   1425.196846     4.916328   344.598169   \n",
       "\n",
       "                     win_ratio  \n",
       "rating_bin                      \n",
       "(-1605.001, -146.0]  -0.481173  \n",
       "(-146.0, -29.0]      -0.126265  \n",
       "(-29.0, 39.0]         0.040151  \n",
       "(39.0, 162.0]         0.226535  \n",
       "(162.0, 1499.0]       0.562818  "
      ]
     },
     "execution_count": 20,
     "metadata": {},
     "output_type": "execute_result"
    }
   ],
   "source": [
    "df_bin = df.groupby('rating_bin').mean()\n",
    "df_bin"
   ]
  },
  {
   "cell_type": "code",
   "execution_count": 21,
   "metadata": {},
   "outputs": [
    {
     "data": {
      "text/plain": [
       "<matplotlib.axes._subplots.AxesSubplot at 0x7f0abb894cd0>"
      ]
     },
     "execution_count": 21,
     "metadata": {},
     "output_type": "execute_result"
    },
    {
     "data": {
      "image/png": "[encoded data removed]",
      "text/plain": [
       "<Figure size 576x360 with 1 Axes>"
      ]
     },
     "metadata": {
      "needs_background": "light"
     },
     "output_type": "display_data"
    }
   ],
   "source": [
    "df_bin['win_ratio'].plot(title='Win Ratio by Rating Differential', figsize=(8,5))"
   ]
  },
  {
   "cell_type": "markdown",
   "metadata": {},
   "source": [
    "As shown by the table and graph, there is a clear positive correlation between the win ratio and the rating differential between the two players. This trend makes a good deal of intuitive sense; if a player is higher rated than their opponent, they are more likely to win the match. The correlation suggests that the rating differential could be a useful variable to include in our evaluation model."
   ]
  },
  {
   "cell_type": "markdown",
   "metadata": {},
   "source": [
    "## ML"
   ]
  },
  {
   "cell_type": "markdown",
   "metadata": {},
   "source": [
    "Now that we've determined that both rating and material difference predict win rate, we will use gradient descent to create a linear regression model based on these variables. This model will then be used to predict what the outcome of a game will be based on the current position. Explicitly, the model will be of the form:\n",
    "\n",
    "\\begin{equation*}\n",
    "P = A(rating_W - rating_B) + B(pawns_W - pawns_B) + C(knights_W - knights_B) + D(bishops_W - bishops_B) + E(rooks_W - rooks_B) + F(queens_W - queens_B) + G\n",
    "\\end{equation*}\n",
    "\n",
    "where P is the predicted win rate for the position and A-G are constants that will be optimized through gradient descent."
   ]
  },
  {
   "cell_type": "markdown",
   "metadata": {},
   "source": [
    "#### Reformatting the Data"
   ]
  },
  {
   "cell_type": "markdown",
   "metadata": {},
   "source": [
    "We'll use the first half of the data to train our model, and measure the accuracy of the predictions on the second half."
   ]
  },
  {
   "cell_type": "code",
   "execution_count": 22,
   "metadata": {},
   "outputs": [],
   "source": [
    "# Splitting the data approximately in half\n",
    "df_training = df.iloc[:10000,:]\n",
    "df_testing = df.iloc[10001:,:]"
   ]
  },
  {
   "cell_type": "markdown",
   "metadata": {},
   "source": [
    "Right now, each row in the DataFrames represents one game. In order to train a function that evaluates a single position on the board, each of these games will need to be decomposed into the positions that occur at the end of each turn. Once this has been done, each row of the new dataframes will represent a single position, with fields for the rating difference, material advantages for each piece type, and outcome of the game. With this format, the rating difference and material difference columns represent all the variable inputs to the function, and the outcome column (value from -1 to 1) will be the target prediction values for the model."
   ]
  },
  {
   "cell_type": "code",
   "execution_count": 23,
   "metadata": {},
   "outputs": [],
   "source": [
    "def expand_game(row, out_arr):\n",
    "    move_list = row['moves'].split()\n",
    "    board = chess.Board()\n",
    "    \n",
    "    i = 0\n",
    "    num_turns = len(move_list)\n",
    "\n",
    "    while (i < num_turns):\n",
    "        board.push(board.parse_san(move_list[i]))\n",
    "        if (i < num_turns - 1):\n",
    "            board.push(board.parse_san(move_list[i+1]))\n",
    "        out_arr.append([row['id'],\n",
    "                 row['rating_diff'],\n",
    "                 len(board.pieces(chess.PAWN,chess.WHITE)) - len(board.pieces(chess.PAWN,chess.BLACK)),\n",
    "                 len(board.pieces(chess.KNIGHT,chess.WHITE)) - len(board.pieces(chess.KNIGHT,chess.BLACK)),\n",
    "                 len(board.pieces(chess.BISHOP,chess.WHITE)) - len(board.pieces(chess.BISHOP,chess.BLACK)),\n",
    "                 len(board.pieces(chess.ROOK,chess.WHITE)) - len(board.pieces(chess.ROOK,chess.BLACK)),\n",
    "                 len(board.pieces(chess.QUEEN,chess.WHITE)) - len(board.pieces(chess.QUEEN,chess.BLACK)),\n",
    "                 row['win_ratio']\n",
    "                ])\n",
    "        i += 2"
   ]
  },
  {
   "cell_type": "markdown",
   "metadata": {},
   "source": [
    "The expand_game function above takes a game (a row in the DataFrame) and outputs an array with information of interest for each turn in the game. This information is stored in the output array given as a parameter. Each turn in the game has a row in the array with the material information at that position, which is needed for the regression model. This function is applied to every row in the DataFrame, and the resultant array is used to create a new DataFrame in the format that we need."
   ]
  },
  {
   "cell_type": "code",
   "execution_count": 24,
   "metadata": {},
   "outputs": [
    {
     "data": {
      "text/html": [
       "<div>\n",
       "<style scoped>\n",
       "    .dataframe tbody tr th:only-of-type {\n",
       "        vertical-align: middle;\n",
       "    }\n",
       "\n",
       "    .dataframe tbody tr th {\n",
       "        vertical-align: top;\n",
       "    }\n",
       "\n",
       "    .dataframe thead th {\n",
       "        text-align: right;\n",
       "    }\n",
       "</style>\n",
       "<table border=\"1\" class=\"dataframe\">\n",
       "  <thead>\n",
       "    <tr style=\"text-align: right;\">\n",
       "      <th></th>\n",
       "      <th>id</th>\n",
       "      <th>rating_diff</th>\n",
       "      <th>pawn_adv</th>\n",
       "      <th>knight_adv</th>\n",
       "      <th>bishop_adv</th>\n",
       "      <th>rook_adv</th>\n",
       "      <th>queen_adv</th>\n",
       "      <th>win_code</th>\n",
       "    </tr>\n",
       "  </thead>\n",
       "  <tbody>\n",
       "    <tr>\n",
       "      <th>0</th>\n",
       "      <td>TZJHLljE</td>\n",
       "      <td>309</td>\n",
       "      <td>0</td>\n",
       "      <td>0</td>\n",
       "      <td>0</td>\n",
       "      <td>0</td>\n",
       "      <td>0</td>\n",
       "      <td>1</td>\n",
       "    </tr>\n",
       "    <tr>\n",
       "      <th>1</th>\n",
       "      <td>TZJHLljE</td>\n",
       "      <td>309</td>\n",
       "      <td>0</td>\n",
       "      <td>0</td>\n",
       "      <td>0</td>\n",
       "      <td>0</td>\n",
       "      <td>0</td>\n",
       "      <td>1</td>\n",
       "    </tr>\n",
       "    <tr>\n",
       "      <th>2</th>\n",
       "      <td>TZJHLljE</td>\n",
       "      <td>309</td>\n",
       "      <td>1</td>\n",
       "      <td>0</td>\n",
       "      <td>0</td>\n",
       "      <td>0</td>\n",
       "      <td>0</td>\n",
       "      <td>1</td>\n",
       "    </tr>\n",
       "    <tr>\n",
       "      <th>3</th>\n",
       "      <td>TZJHLljE</td>\n",
       "      <td>309</td>\n",
       "      <td>1</td>\n",
       "      <td>0</td>\n",
       "      <td>0</td>\n",
       "      <td>0</td>\n",
       "      <td>0</td>\n",
       "      <td>1</td>\n",
       "    </tr>\n",
       "    <tr>\n",
       "      <th>4</th>\n",
       "      <td>TZJHLljE</td>\n",
       "      <td>309</td>\n",
       "      <td>1</td>\n",
       "      <td>0</td>\n",
       "      <td>0</td>\n",
       "      <td>0</td>\n",
       "      <td>0</td>\n",
       "      <td>1</td>\n",
       "    </tr>\n",
       "    <tr>\n",
       "      <th>5</th>\n",
       "      <td>TZJHLljE</td>\n",
       "      <td>309</td>\n",
       "      <td>1</td>\n",
       "      <td>0</td>\n",
       "      <td>0</td>\n",
       "      <td>0</td>\n",
       "      <td>0</td>\n",
       "      <td>1</td>\n",
       "    </tr>\n",
       "    <tr>\n",
       "      <th>6</th>\n",
       "      <td>TZJHLljE</td>\n",
       "      <td>309</td>\n",
       "      <td>1</td>\n",
       "      <td>0</td>\n",
       "      <td>0</td>\n",
       "      <td>0</td>\n",
       "      <td>0</td>\n",
       "      <td>1</td>\n",
       "    </tr>\n",
       "    <tr>\n",
       "      <th>7</th>\n",
       "      <td>l1NXvwaE</td>\n",
       "      <td>61</td>\n",
       "      <td>0</td>\n",
       "      <td>0</td>\n",
       "      <td>0</td>\n",
       "      <td>0</td>\n",
       "      <td>0</td>\n",
       "      <td>-1</td>\n",
       "    </tr>\n",
       "    <tr>\n",
       "      <th>8</th>\n",
       "      <td>l1NXvwaE</td>\n",
       "      <td>61</td>\n",
       "      <td>0</td>\n",
       "      <td>0</td>\n",
       "      <td>0</td>\n",
       "      <td>0</td>\n",
       "      <td>0</td>\n",
       "      <td>-1</td>\n",
       "    </tr>\n",
       "    <tr>\n",
       "      <th>9</th>\n",
       "      <td>l1NXvwaE</td>\n",
       "      <td>61</td>\n",
       "      <td>0</td>\n",
       "      <td>0</td>\n",
       "      <td>0</td>\n",
       "      <td>0</td>\n",
       "      <td>0</td>\n",
       "      <td>-1</td>\n",
       "    </tr>\n",
       "  </tbody>\n",
       "</table>\n",
       "</div>"
      ],
      "text/plain": [
       "         id  rating_diff  pawn_adv  knight_adv  bishop_adv  rook_adv  \\\n",
       "0  TZJHLljE          309         0           0           0         0   \n",
       "1  TZJHLljE          309         0           0           0         0   \n",
       "2  TZJHLljE          309         1           0           0         0   \n",
       "3  TZJHLljE          309         1           0           0         0   \n",
       "4  TZJHLljE          309         1           0           0         0   \n",
       "5  TZJHLljE          309         1           0           0         0   \n",
       "6  TZJHLljE          309         1           0           0         0   \n",
       "7  l1NXvwaE           61         0           0           0         0   \n",
       "8  l1NXvwaE           61         0           0           0         0   \n",
       "9  l1NXvwaE           61         0           0           0         0   \n",
       "\n",
       "   queen_adv  win_code  \n",
       "0          0         1  \n",
       "1          0         1  \n",
       "2          0         1  \n",
       "3          0         1  \n",
       "4          0         1  \n",
       "5          0         1  \n",
       "6          0         1  \n",
       "7          0        -1  \n",
       "8          0        -1  \n",
       "9          0        -1  "
      ]
     },
     "execution_count": 24,
     "metadata": {},
     "output_type": "execute_result"
    }
   ],
   "source": [
    "cols = ['id', 'rating_diff','pawn_adv','knight_adv','bishop_adv','rook_adv','queen_adv','win_code']\n",
    "\n",
    "# The expansion function is applied to each half of the data\n",
    "move_info = []\n",
    "df_training.apply(lambda row: expand_game(row, move_info), axis=1)\n",
    "df_training_pos = pd.DataFrame(move_info, columns=cols)\n",
    "\n",
    "move_info = []\n",
    "df_testing.apply(lambda row: expand_game(row, move_info), axis=1)\n",
    "df_testing_pos = pd.DataFrame(move_info, columns=cols)"
   ]
  },
  {
   "cell_type": "code",
   "execution_count": 25,
   "metadata": {},
   "outputs": [
    {
     "data": {
      "text/html": [
       "<div>\n",
       "<style scoped>\n",
       "    .dataframe tbody tr th:only-of-type {\n",
       "        vertical-align: middle;\n",
       "    }\n",
       "\n",
       "    .dataframe tbody tr th {\n",
       "        vertical-align: top;\n",
       "    }\n",
       "\n",
       "    .dataframe thead th {\n",
       "        text-align: right;\n",
       "    }\n",
       "</style>\n",
       "<table border=\"1\" class=\"dataframe\">\n",
       "  <thead>\n",
       "    <tr style=\"text-align: right;\">\n",
       "      <th></th>\n",
       "      <th>id</th>\n",
       "      <th>rating_diff</th>\n",
       "      <th>pawn_adv</th>\n",
       "      <th>knight_adv</th>\n",
       "      <th>bishop_adv</th>\n",
       "      <th>rook_adv</th>\n",
       "      <th>queen_adv</th>\n",
       "      <th>win_code</th>\n",
       "    </tr>\n",
       "  </thead>\n",
       "  <tbody>\n",
       "    <tr>\n",
       "      <th>0</th>\n",
       "      <td>TZJHLljE</td>\n",
       "      <td>309</td>\n",
       "      <td>0</td>\n",
       "      <td>0</td>\n",
       "      <td>0</td>\n",
       "      <td>0</td>\n",
       "      <td>0</td>\n",
       "      <td>1</td>\n",
       "    </tr>\n",
       "    <tr>\n",
       "      <th>1</th>\n",
       "      <td>TZJHLljE</td>\n",
       "      <td>309</td>\n",
       "      <td>0</td>\n",
       "      <td>0</td>\n",
       "      <td>0</td>\n",
       "      <td>0</td>\n",
       "      <td>0</td>\n",
       "      <td>1</td>\n",
       "    </tr>\n",
       "    <tr>\n",
       "      <th>2</th>\n",
       "      <td>TZJHLljE</td>\n",
       "      <td>309</td>\n",
       "      <td>1</td>\n",
       "      <td>0</td>\n",
       "      <td>0</td>\n",
       "      <td>0</td>\n",
       "      <td>0</td>\n",
       "      <td>1</td>\n",
       "    </tr>\n",
       "    <tr>\n",
       "      <th>3</th>\n",
       "      <td>TZJHLljE</td>\n",
       "      <td>309</td>\n",
       "      <td>1</td>\n",
       "      <td>0</td>\n",
       "      <td>0</td>\n",
       "      <td>0</td>\n",
       "      <td>0</td>\n",
       "      <td>1</td>\n",
       "    </tr>\n",
       "    <tr>\n",
       "      <th>4</th>\n",
       "      <td>TZJHLljE</td>\n",
       "      <td>309</td>\n",
       "      <td>1</td>\n",
       "      <td>0</td>\n",
       "      <td>0</td>\n",
       "      <td>0</td>\n",
       "      <td>0</td>\n",
       "      <td>1</td>\n",
       "    </tr>\n",
       "    <tr>\n",
       "      <th>5</th>\n",
       "      <td>TZJHLljE</td>\n",
       "      <td>309</td>\n",
       "      <td>1</td>\n",
       "      <td>0</td>\n",
       "      <td>0</td>\n",
       "      <td>0</td>\n",
       "      <td>0</td>\n",
       "      <td>1</td>\n",
       "    </tr>\n",
       "    <tr>\n",
       "      <th>6</th>\n",
       "      <td>TZJHLljE</td>\n",
       "      <td>309</td>\n",
       "      <td>1</td>\n",
       "      <td>0</td>\n",
       "      <td>0</td>\n",
       "      <td>0</td>\n",
       "      <td>0</td>\n",
       "      <td>1</td>\n",
       "    </tr>\n",
       "    <tr>\n",
       "      <th>7</th>\n",
       "      <td>l1NXvwaE</td>\n",
       "      <td>61</td>\n",
       "      <td>0</td>\n",
       "      <td>0</td>\n",
       "      <td>0</td>\n",
       "      <td>0</td>\n",
       "      <td>0</td>\n",
       "      <td>-1</td>\n",
       "    </tr>\n",
       "    <tr>\n",
       "      <th>8</th>\n",
       "      <td>l1NXvwaE</td>\n",
       "      <td>61</td>\n",
       "      <td>0</td>\n",
       "      <td>0</td>\n",
       "      <td>0</td>\n",
       "      <td>0</td>\n",
       "      <td>0</td>\n",
       "      <td>-1</td>\n",
       "    </tr>\n",
       "    <tr>\n",
       "      <th>9</th>\n",
       "      <td>l1NXvwaE</td>\n",
       "      <td>61</td>\n",
       "      <td>0</td>\n",
       "      <td>0</td>\n",
       "      <td>0</td>\n",
       "      <td>0</td>\n",
       "      <td>0</td>\n",
       "      <td>-1</td>\n",
       "    </tr>\n",
       "  </tbody>\n",
       "</table>\n",
       "</div>"
      ],
      "text/plain": [
       "         id  rating_diff  pawn_adv  knight_adv  bishop_adv  rook_adv  \\\n",
       "0  TZJHLljE          309         0           0           0         0   \n",
       "1  TZJHLljE          309         0           0           0         0   \n",
       "2  TZJHLljE          309         1           0           0         0   \n",
       "3  TZJHLljE          309         1           0           0         0   \n",
       "4  TZJHLljE          309         1           0           0         0   \n",
       "5  TZJHLljE          309         1           0           0         0   \n",
       "6  TZJHLljE          309         1           0           0         0   \n",
       "7  l1NXvwaE           61         0           0           0         0   \n",
       "8  l1NXvwaE           61         0           0           0         0   \n",
       "9  l1NXvwaE           61         0           0           0         0   \n",
       "\n",
       "   queen_adv  win_code  \n",
       "0          0         1  \n",
       "1          0         1  \n",
       "2          0         1  \n",
       "3          0         1  \n",
       "4          0         1  \n",
       "5          0         1  \n",
       "6          0         1  \n",
       "7          0        -1  \n",
       "8          0        -1  \n",
       "9          0        -1  "
      ]
     },
     "execution_count": 25,
     "metadata": {},
     "output_type": "execute_result"
    }
   ],
   "source": [
    "df_training_pos.head(10)"
   ]
  },
  {
   "cell_type": "markdown",
   "metadata": {},
   "source": [
    "Every position reached in the games is encoded as a row in these new DataFrames, with the material advantage for the pieces at each position. The model "
   ]
  },
  {
   "cell_type": "markdown",
   "metadata": {},
   "source": [
    "#### Fitting the Model"
   ]
  },
  {
   "cell_type": "markdown",
   "metadata": {},
   "source": [
    "In the new format, the data can be used to fit the model using the formula from the beginning of the section. The package we're using to compute the regression model is statsmodels.formula.api, which allows the formula to be input as a string of DataFrame attributes. The resultant model is described below."
   ]
  },
  {
   "cell_type": "code",
   "execution_count": 26,
   "metadata": {},
   "outputs": [
    {
     "name": "stdout",
     "output_type": "stream",
     "text": [
      "                            OLS Regression Results                            \n",
      "==============================================================================\n",
      "Dep. Variable:               win_code   R-squared:                       0.219\n",
      "Model:                            OLS   Adj. R-squared:                  0.219\n",
      "Method:                 Least Squares   F-statistic:                 1.404e+04\n",
      "Date:                Mon, 21 Dec 2020   Prob (F-statistic):               0.00\n",
      "Time:                        03:11:06   Log-Likelihood:            -3.7929e+05\n",
      "No. Observations:              300320   AIC:                         7.586e+05\n",
      "Df Residuals:                  300313   BIC:                         7.587e+05\n",
      "Df Model:                           6                                         \n",
      "Covariance Type:            nonrobust                                         \n",
      "===============================================================================\n",
      "                  coef    std err          t      P>|t|      [0.025      0.975]\n",
      "-------------------------------------------------------------------------------\n",
      "Intercept       0.0349      0.002     22.255      0.000       0.032       0.038\n",
      "rating_diff     0.0011   6.78e-06    155.182      0.000       0.001       0.001\n",
      "pawn_adv        0.1124      0.001     86.616      0.000       0.110       0.115\n",
      "knight_adv      0.2183      0.003     83.170      0.000       0.213       0.223\n",
      "bishop_adv      0.2383      0.003     89.437      0.000       0.233       0.243\n",
      "rook_adv        0.3077      0.003     93.901      0.000       0.301       0.314\n",
      "queen_adv       0.5501      0.005    111.161      0.000       0.540       0.560\n",
      "==============================================================================\n",
      "Omnibus:                  2801251.744   Durbin-Watson:                   0.081\n",
      "Prob(Omnibus):                  0.000   Jarque-Bera (JB):            24484.004\n",
      "Skew:                          -0.019   Prob(JB):                         0.00\n",
      "Kurtosis:                       1.602   Cond. No.                         748.\n",
      "==============================================================================\n",
      "\n",
      "Warnings:\n",
      "[1] Standard Errors assume that the covariance matrix of the errors is correctly specified.\n"
     ]
    }
   ],
   "source": [
    "model = smf.ols('win_code ~ rating_diff + pawn_adv + knight_adv + bishop_adv + rook_adv + queen_adv', df_training_pos).fit()\n",
    "print(model.summary())"
   ]
  },
  {
   "cell_type": "code",
   "execution_count": 27,
   "metadata": {},
   "outputs": [
    {
     "data": {
      "text/plain": [
       "0        -0.283844\n",
       "1        -0.283844\n",
       "2        -0.283844\n",
       "3        -0.396248\n",
       "4        -0.396248\n",
       "            ...   \n",
       "310864   -0.269754\n",
       "310865   -0.269754\n",
       "310866   -0.269754\n",
       "310867   -0.269754\n",
       "310868   -0.269754\n",
       "Length: 310869, dtype: float64"
      ]
     },
     "execution_count": 27,
     "metadata": {},
     "output_type": "execute_result"
    }
   ],
   "source": [
    "test_X = df_testing_pos[['rating_diff','pawn_adv','knight_adv','bishop_adv','rook_adv','queen_adv']]\n",
    "pred_wins = model.predict(test_X)\n",
    "pred_wins"
   ]
  },
  {
   "cell_type": "code",
   "execution_count": 28,
   "metadata": {},
   "outputs": [
    {
     "data": {
      "text/plain": [
       "0        -1\n",
       "1        -1\n",
       "2        -1\n",
       "3        -1\n",
       "4        -1\n",
       "         ..\n",
       "310864   -1\n",
       "310865   -1\n",
       "310866   -1\n",
       "310867   -1\n",
       "310868   -1\n",
       "Name: win_code, Length: 310869, dtype: int64"
      ]
     },
     "execution_count": 28,
     "metadata": {},
     "output_type": "execute_result"
    }
   ],
   "source": [
    "df_testing_pos['win_code']"
   ]
  },
  {
   "cell_type": "code",
   "execution_count": null,
   "metadata": {},
   "outputs": [],
   "source": []
  }
 ],
 "metadata": {
  "kernelspec": {
   "display_name": "Python 3",
   "language": "python",
   "name": "python3"
  },
  "language_info": {
   "codemirror_mode": {
    "name": "ipython",
    "version": 3
   },
   "file_extension": ".py",
   "mimetype": "text/x-python",
   "name": "python",
   "nbconvert_exporter": "python",
   "pygments_lexer": "ipython3",
   "version": "3.8.5"
  }
 },
 "nbformat": 4,
 "nbformat_minor": 4
}
